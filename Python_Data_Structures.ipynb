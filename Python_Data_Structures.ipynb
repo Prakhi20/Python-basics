{
  "nbformat": 4,
  "nbformat_minor": 0,
  "metadata": {
    "colab": {
      "provenance": [],
      "authorship_tag": "ABX9TyML165AewlTEnKlBSARsuNh",
      "include_colab_link": true
    },
    "kernelspec": {
      "name": "python3",
      "display_name": "Python 3"
    },
    "language_info": {
      "name": "python"
    }
  },
  "cells": [
    {
      "cell_type": "markdown",
      "metadata": {
        "id": "view-in-github",
        "colab_type": "text"
      },
      "source": [
        "<a href=\"https://colab.research.google.com/github/Prakhi20/Python-basics/blob/main/Python_Data_Structures.ipynb\" target=\"_parent\"><img src=\"https://colab.research.google.com/assets/colab-badge.svg\" alt=\"Open In Colab\"/></a>"
      ]
    },
    {
      "cell_type": "markdown",
      "source": [
        "# Python - Data Structure"
      ],
      "metadata": {
        "id": "hafhI9UO8Wge"
      }
    },
    {
      "cell_type": "markdown",
      "source": [
        "1. whta are data structures and why are they important ?\n",
        "    - Data structures are specialized formats for organizing, storing, and accessing collections of data. They provide efficient ways to manage information based on its characteristics and intended use.\n",
        "    - Think of them as containers that hold your data and determine how you can interact with it. Different containers are better suited for different types of items.\n",
        "  ### It is important because:\n",
        "    - Choosing the right data structure significantly impacts the efficiency and performance of your program.\n",
        "    - Well-chosen data structures can:\n",
        "    - Simplify data manipulation (adding, removing, modifying elements)\n",
        "    - Optimize searching and sorting operations\n",
        "    - Conserve memory usage        \n",
        "\n",
        "    "
      ],
      "metadata": {
        "id": "7teKl8sN8qpJ"
      }
    },
    {
      "cell_type": "markdown",
      "source": [
        "2. Explain the difference between mutable and immutable data types with examples.\n",
        "   - The difference between mutuable and immutable sata types are:\n",
        "     (a) Mutable  objects can be altered in place. This means their content can be changed without creating a new object. Its memory usage can be efficient for in place changes. Mutable objects are not thread safe & also cannot be used as dicitonary keys.\n",
        "          Examples:- List, Dictionaries & Sets.\n",
        "     (b) Immutable Objects cannot be changed after creation. Any opration that appears to modify an immutable object actually results in the cration of a new object. Its memory Usages can lead to more memory consumption if frequently modified. Immutable objects are generally thread safed & can be used as dictionary keys.\n",
        "          Examples:- Strings, numbers & tuples.         "
      ],
      "metadata": {
        "id": "WyO3tw6yBMdU"
      }
    },
    {
      "cell_type": "markdown",
      "source": [
        "3. What are the main difference between lists and tuples in python ?\n",
        "    - The main difference between lsits aand tuples in python are:\n",
        "    ### Mutability\n",
        "       - lists are mutable in nature.\n",
        "       - where as tuples are immutable in nature.\n",
        "    ### Syntax\n",
        "       - List can be defined using Square brackets []\n",
        "       - tuples can be defined using parentheses ().\n",
        "    ### Performance\n",
        "       - Lists are slower due to dynamic size and mutabiity .\n",
        "       - tuples are faster due to statics size and immutability .\n",
        "    ### Methods\n",
        "       - lists has more bulit-in methods (e.g., append, remove)\n",
        "       - Tuples has fewer bulit-in methods (e.g., count, index)\n",
        "    ### Memory Usage\n",
        "       - Lists consume more memory due to flexibility.\n",
        "       - Tuples consume less memory due to immutability.\n",
        "    ### Iteration\n",
        "       - Iteration can be slightly slower\n",
        "       - iteration faster due to immutability.\n",
        "    ### Hashability\n",
        "       - Lists are not hashable.\n",
        "       - Tuples are hashable if they contain hashable elements, making them usable as dictionary keys."
      ],
      "metadata": {
        "id": "yxRTy8PrHgMv"
      }
    },
    {
      "cell_type": "markdown",
      "source": [
        "4. Describe how Dictionaries Store Data ?\n",
        "   - Dictionaries in yton store data using a structure called a hash table, which allow them to efficiently map keys to values. Here's a breakdown of how it works under the hood:\n",
        "       (1) Each key is hashed:\n",
        "           - when you add a key-value air to a dictionary, Python uses a hash function to turn the key into a unique number (called a hash).\n",
        "           - Example: 'name' > hash('name') > some integer like 3456789.\n",
        "       (2) The hash determines where the value is stored:\n",
        "           - the hash is used to compute an index in an internal array (bucket array)\n",
        "           - Python stores the value at that index, along with the key (to handle collision).\n",
        "       (3) Collisions are handled:\n",
        "           - Two keys might hash to the same index\n",
        "           - Python handles this using open addressing (probing nearby slots)or chaining (a list of key-value pairs at the same index).\n",
        "       (4) Retrieving Data:\n",
        "           - To retrieve a value:\n",
        "                - python hashes the key,\n",
        "                - finds the correct index,\n",
        "                - and then compares the key to confirm it matches before returning the value.\n",
        "        (5) Keys must be hashable\n",
        "            - only immutable types like strings, numbers, and tuples(with hashable elements) can be dictionary keys.                 "
      ],
      "metadata": {
        "id": "OVIod1-WOspu"
      }
    },
    {
      "cell_type": "markdown",
      "source": [
        "5. Why might you use a set instead of list in Python ?\n",
        "   - we use Set instead of list in python because:\n",
        "     - if you need to ensure that all elements in a collection are unique, a set is the ideal choice. Sets automatically discard dupicate Values, which can be useful for tasks like removing duplicates from a list , but list is a variable for storing multiple values in Python.\n",
        "     - Sets are implemented using hash tables, which allows for very fast membership testing (checking if an element is in the sets). This makes sets more efficient than lists for large collection where you need to perform frequent membership check.\n",
        "     - Sets support various mathematical set operations, such as union, inersection, and difference. These Operations can be useful for tasks like finding the common elements between two collections or identifying the elements that are unique to one collection.\n",
        "     - Set themselves are mutable, the elements within a set must be immutable. For example :- numbers, strings, tuples, etc. If you need to store mutable objects in a collection then you have to use list.\n",
        "     - Sets are unordered , which means that the elements do not have specific position or index, but where as lists are maintain the order of elements, which means the element have a specific position or index."
      ],
      "metadata": {
        "id": "zcLHG4c7QoY_"
      }
    },
    {
      "cell_type": "markdown",
      "source": [
        "6. what is a String in python, and how is it different from a list ?\n",
        "    - String is aa sequence of characters. where each character or where character is a single unit of text which is helpful to represent and manipulate textual data. where character are represent using numerical values and each character is assigned a unique number/values.\n",
        "  ### String is different from a lists because:\n",
        "    - Strings are immutable in nature, once created,their content cannot be atered. where as lists are mutable in nature, allowing modification of their element after creation.\n",
        "    - Strings exclusively hold character data. Lists can contain elements of any data type, including a mix of different type.\n",
        "    - Strings support string-specific operations like concatenation and slicing, while lists offer methods for adding, removing and modifying elements.\n",
        "    - strings are enclosed in single or double quotes, e.g., \"hello\" or 'world'. Lists are enclosed in square brackets, e.g., [1,2,\"three\"].\n",
        "   "
      ],
      "metadata": {
        "id": "i9xjoAuQYfhI"
      }
    },
    {
      "cell_type": "markdown",
      "source": [
        "7. How do tuples ensure data integrity in python ?\n",
        "   - tuples in python ensure data integrity through their immutability. once a tuple is created, its elements cannot be modified added, or removed. This characterstics prevets accidental or unauthorized changes to the data, ensuring its consistency and reliability throughout the program's execution. Immutability also allows tuples to be used as keys in dictionaries and elements in sets, as their hash values remain constant.\n",
        "   - For example, if storing configuration setting or database connection details, using a tuple guarantees that these values remain unchanged, preventing potential errors or security vulnerabilities. Any attempt to modify a tuple will result in a \"TypeError\", reinforcing its immutability. To make changes, a new tuple must be created, leaving the original tuple intact.\n",
        "   "
      ],
      "metadata": {
        "id": "EA71_RxluVDu"
      }
    },
    {
      "cell_type": "markdown",
      "source": [
        "8. What is a hash table and how does it relate to dictionaries in python ?\n",
        "   - a hash table is a data structure that stores key-value pairs and allows fast data retrival using a hash function to compute an index (or \"slot\") for each key.\n",
        "### How it works:\n",
        "   - A key is passed into a hash function.\n",
        "   - the hash function return an index in an underlying Array.\n",
        "   - the value is stored at that index.\n",
        "   - when retrieving, the key is hashed again to find the value's location.\n",
        "### Relation to Python Dictionaries:\n",
        "   - In pyhton, dictionaries are implemented using hash tables. when you do my-dict[\"key\"], python:\n",
        "           - Hashes \"key\" to find where its value is stored.\n",
        "           - goes directly to that index and retrieves the value.\n",
        "### Benefits;\n",
        "    - Very fast lookup (average0(1) time complexity)\n",
        "    - Keys must be hashable (immutable types like strings, numbers, tuples).\n",
        "   "
      ],
      "metadata": {
        "id": "mq11sbduzZTc"
      }
    },
    {
      "cell_type": "markdown",
      "source": [
        "9. Can lists contain different data types in Python ?\n",
        "   - Yes, lists in python can contain elements of different data types. Asingle list can store integers, strings, floats, booleans, or even other lists and dictionaries. this flexibility is a key feature of python lists.\n",
        "   - for example:\n",
        "      my_list = [1, \"hello\", 3.14, true, [1, 2, 3], {\"name\":\"john\"}] like this type."
      ],
      "metadata": {
        "id": "PY9esB2D0EEh"
      }
    },
    {
      "cell_type": "markdown",
      "source": [
        "10. Explain why Strings are immutable in Python ?\n",
        "    - In Python, strings are immutable because this design choice offers sveral benefits:\n",
        "        - Immutability strins can be easily shared and resused, as there's no risk of unintended modification. This can save memory, especially when dealing with many identical strings.\n",
        "        - imutability prevents accidental changes to strings, which can be crucial in multi-threaded environments or when working with sensitive data. If a string is passed to a function, the function can't modify the original string.\n",
        "        - Immutable objects, such as strings, can be used as key in dictionaries. If strings were mutable, their hash values could change, making them unsuitable as dictionary keys.\n",
        "        - Methods on immutable types can easily return new instances, making method chaining straightforward.\n",
        "        - For example: when string appears to be modified, using the \"+=\" operator or \"replace()\" method, a new string object is actually creted, and the variable is reassigned to point to the new object. The original string remains unchanged."
      ],
      "metadata": {
        "id": "awIWmiqM1sjg"
      }
    },
    {
      "cell_type": "markdown",
      "source": [
        "11. What adavantages do dictionries offers over lists for cetain tasks ?\n",
        "    - Dictionaries in pyhtons offer fast data retrival: Unlike lists where you have to traverse through each element to find a value, dictionaries use hash tables for quick access to values based on keys.\n",
        "    - Easy to understand key value pairs: Dictionaries consist of key value pairs, making it easier to associate and access relevant data together.\n",
        "    - Dynamic data structure: Dictionaries in python are mutable, meaning you can add, update, or remove key value pairs as neede, providing flexibility in managing data.\n",
        "    - efficient for storing large amounts of data: Due to its efficient data retrieval mechanism, dictionaries are ideal for storing and accessing large datasets quickly.\n",
        "    - Built in methods for manipulation: Python dictionaries offer a variety of built in methods such as 'get()', 'keys()', 'values'()', and 'items()', for easy data manipulation and iteration.\n",
        "    - Useful for mapping relationship: Dictionaries are commonly used to map relationships between items, making it easy to store and retrieve interconnected data.\n",
        "    - Suitable for a wide range of applications: From simple key value mappings to complex data structures, dictionaries can be applied in various scenarios, making them versatile for diverse programming needs.\n",
        "    - Support for different data types; Pthon dictionaries can store and retrieve values of different data types, offering flexibility in handling a variety of information.\n",
        "    - Convenient for grouping related data: By using dictionaries, you can group related information under distinct keys, resulting in organized and structured data management.\n",
        "    - Facilitates efficient data processing: Dictionaries support efficient lookups and updates, enabling streamlined data processing operations within Python Programs.\n",
        "    - Ideal for quick searches and retrievals: when dealing with datasets where fast searching and retrieval are crucial, dictionaries provide an optimal solution for efficient data access.\n",
        "    - Enhanced readability and maintainability: Using dictinaries to store data in a key value format can improve code readability and maintainability by clearly outlining the relationship between data elements."
      ],
      "metadata": {
        "id": "BBe5uHDz5nTC"
      }
    },
    {
      "cell_type": "markdown",
      "source": [
        "12. Describe a Scenario where using a tuple would be preferable over list.\n",
        "     - tuples are immutable. Hence, they are primarily used tostore data that doesn't change frequently. any operation can store data in a tuple when you don't want it to change.\n",
        "     - tuples are great to use if you want the data in your collecion to be read-only , never to change, and always remain the same and constant.\n",
        "     - because of this ability and the guarantee that data is never changed, you can use tuples in dictionaries and sets, which require the elements inside them to be of an immutable type.\n",
        "     - it is beneficial when you need to store values that don't change over time, like a person's birthdate or height."
      ],
      "metadata": {
        "id": "QiQ3MxWDT11R"
      }
    },
    {
      "cell_type": "markdown",
      "source": [
        "13. How do sets handle duplicate values in Python ?\n",
        "    - Sets in python are designed to store only unique elements. When an attempt is made to add a duplicate value to a set, python automatically discards the duplicate, ensuring that the set contains only distinct elements. this behavior makes sets useful for task like removing duplicates from a list or checking for th presence of unique items.\n",
        "    - for example: my_set = {1, 2, 2, 3, 4, 4, 5}\n",
        "                       print(my_set)\n",
        "                      * Expected output: {1, 2, 3, 4, 5}\n",
        "      in the provided example, even though the numbers 2 & 4 are added twice, the set only retains one intance of each, demonstrating bhow sets handle duplicate value in python.                 "
      ],
      "metadata": {
        "id": "vpW4rtgFbkxb"
      }
    },
    {
      "cell_type": "markdown",
      "source": [
        "14. How does the \"in\" keyword work differently for lists and dictionaries ?\n",
        "    - The \"in\" operator works on dictionaries & lists as it tell you whether something appears or not as s key in the dictionary or lists. It returns two values \"True or Flase\".\n",
        "    - the \"in\" operator uses different alorithms for lists & dictionaries. For lists, it uses a search algorithm. As the list gets longer, the search time gets longer in direct proportion. For dictionaries, Python uses an algorithm called a hashtable that has a remarkable property: the in operator takes about the same amount of time no matter how many items there are in a dictionary."
      ],
      "metadata": {
        "id": "EDrGIhr6eezC"
      }
    },
    {
      "cell_type": "markdown",
      "source": [
        "15. Can you modify the elements of a tuples ? Explain why or why not.\n",
        "     - No, you cannot directly modify the elements of a tuple in python. Tuples are immutable data structures, meaning their elements cannot be modify after they are created Attempting to assign a new value to an element within a tuple will raise a \"TypeError\".\n",
        "  ### Here's why:\n",
        "      - Tuple are designed to be immutable, which makes them faster to process and use in situations where you need to ensure data integrity an consistency.\n",
        "      - Because tuples are immutable, they can be used as keys in dictionaries and as elements in sets. If a data structure's elements are mutable, then its hash value can change if the elements are modified, which can disrupt the operations of these data structures.\n",
        "      - if you need to modify a collection of elements, you shoud use a list instead, as lists are mutable. You can also create a new tuple with the desired changes by using techniques like tuple slicing or list conversion."
      ],
      "metadata": {
        "id": "8U5q32aEi9mg"
      }
    },
    {
      "cell_type": "markdown",
      "source": [
        "16. What is nested dictionary , and give an example of its use case ?\n",
        "    - A nested dictionary is a dictionary inside another dictionary. it allows  you to structure data in a hierarchical or grouped way, making it easiser to represent complex relationship.\n",
        "  ### Use case example:\n",
        "      - student management System:\n",
        "         Imagine a system where you want to store student details indexed by their ID. Each student has multiple attributes (like name, age, major). Anested dictionary makes this clean and acessible."
      ],
      "metadata": {
        "id": "1wK5XNSmmR8V"
      }
    },
    {
      "cell_type": "code",
      "source": [
        "## Nested dictionary Example:\n",
        "Student_database= {\"101\":{\"name\": \"Alice\", \"age\": 20, \"major\": \"Physics\"}, \"102\": {\"name\": \"Bob\", \"age\": 22, \"major\": \"Computer Science\"}, \"103\": {\"name\": \"Charlie\", \"age\": 19, \"major\": \"Mathematics\"}}\n",
        "print(Student_database[\"102\"][\"name\"])"
      ],
      "metadata": {
        "colab": {
          "base_uri": "https://localhost:8080/"
        },
        "id": "h8IoWpclrcwL",
        "outputId": "81262eae-e4bd-46a9-8e94-9b3b651b82eb"
      },
      "execution_count": null,
      "outputs": [
        {
          "output_type": "stream",
          "name": "stdout",
          "text": [
            "Bob\n"
          ]
        }
      ]
    },
    {
      "cell_type": "markdown",
      "source": [
        "17. Describe the time complexity of accessing elements in a dictionary.\n",
        "    - Accessing elements in a dictionary in python has an average-case time complexity of 0(1)- constant time.\n",
        "### why 0(1)?\n",
        "   - python dictionaries use a hash table under the hood. when you access a value with a key:\n",
        "     (a) Python calculates the hash of the key.\n",
        "     (b) It Uses that hash to directly locate the value's position in memory.\n",
        "    - So it doesn't need to loop through the dictionary- it jumps Straight to the data.\n",
        "### Worst Case: 0(n)\n",
        "    - aithough rare, in worst-case scenarios (like hash collisions), it could degrade to 0(n), Where n is the number of elements.But python's hashing mechanism is designed to minimize this risk.\n",
        "### Summary:\n",
        "   - average-case time complexity:0(1)\n",
        "   - worst-case time complexity:0(n) (raredue to hash collisions)\n",
        "  "
      ],
      "metadata": {
        "id": "ghBInxVBwaX7"
      }
    },
    {
      "cell_type": "markdown",
      "source": [
        "18. In what situations are lists preferred over dictionaries ?\n",
        "    - lists are preferred over dictionaries when:"
      ],
      "metadata": {
        "id": "uP1qSCL8z0XH"
      }
    },
    {
      "cell_type": "code",
      "source": [
        "## 1. You need ordered, sequential data:\n",
        "#Lists mintain insertion order and are ideal for data where order matters, like:\n",
        "shopping_list= [\"egggs\", \"milk\", \"bread\"]\n",
        "print(shopping_list)"
      ],
      "metadata": {
        "colab": {
          "base_uri": "https://localhost:8080/"
        },
        "id": "Z66L2JBDv3kF",
        "outputId": "6c15d884-d66a-431c-e580-d1a4fec0cb28"
      },
      "execution_count": null,
      "outputs": [
        {
          "output_type": "stream",
          "name": "stdout",
          "text": [
            "['egggs', 'milk', 'bread']\n"
          ]
        }
      ]
    },
    {
      "cell_type": "code",
      "source": [
        "## 2. You only need index-based access:\n",
        "# when you access items by position (like list[0], list[1]), a list is simpler and faster."
      ],
      "metadata": {
        "id": "GV6bwiHd2NDn"
      },
      "execution_count": null,
      "outputs": []
    },
    {
      "cell_type": "code",
      "source": [
        "## 3. Data doesn't need unique keys:\n",
        "# dictionaries require unique keys. If your data is just a collection of items without key-value relationships, a list is more appropriate.\n"
      ],
      "metadata": {
        "id": "6pEPSIuQ2liQ"
      },
      "execution_count": null,
      "outputs": []
    },
    {
      "cell_type": "code",
      "source": [
        "## 4. Memory Efficiency;\n",
        "# lists usually use less memory than dictionaries, especially for small or simple datasets."
      ],
      "metadata": {
        "id": "S2dpxney3HAE"
      },
      "execution_count": null,
      "outputs": []
    },
    {
      "cell_type": "code",
      "source": [
        "## 5. You need to sort or iterate in order:\n",
        "# lists are built for operations like sorting or slicing:\n",
        "numbers= [ 3, 7, 9, 6, 8, 5, 4, 2, 1]\n",
        "numbers_sort= sorted(numbers)\n",
        "print(f\"sorted list:{numbers_sort}\")"
      ],
      "metadata": {
        "colab": {
          "base_uri": "https://localhost:8080/"
        },
        "id": "4Rswy6q73eeN",
        "outputId": "c85df056-8251-44a9-8124-79a17c9399c7"
      },
      "execution_count": null,
      "outputs": [
        {
          "output_type": "stream",
          "name": "stdout",
          "text": [
            "sorted list:[1, 2, 3, 4, 5, 6, 7, 8, 9]\n"
          ]
        }
      ]
    },
    {
      "cell_type": "markdown",
      "source": [
        "19. why are dictionaries considered unordered, and how does that affect data retrieval ?\n",
        "    - in older versions of python (before 3.7), dictionaries did not guarantee the order of items. this means:\n",
        "       - the order in which you inserted key-value pairs could be different form the order you got them back.\n",
        "       - the underlying hash table focused on performance and fast lookups, not order.\n",
        "    - what changed in python 3.7+?\n",
        "        - starting with python 3.7, dictionaries preserve insertion orde as an official lanuage feature. that means, if you insert items in aa specific order, iterating over the dictionary will return them in that same order.\n",
        "## How it affects data retrieval:\n",
        "    - Pre3.7 (unordered):\n",
        "         - you couldn't rely on the order for display, iteration, or comparisons.\n",
        "         - use cases requiring order used collections.ordereddict.\n",
        "    - 3.7+ (ordered):\n",
        "         - you can rely on insertion order during iteration.\n",
        "         - still when you access by key (like my_dict[\"nane\"]), order doesn't matter- you are directly jumping to the value using the key (0(1)lookup)."
      ],
      "metadata": {
        "id": "rgx_Q2DZ7tmC"
      }
    },
    {
      "cell_type": "markdown",
      "source": [
        "20. Explain the difference betweena list and a dictionary in terms of data retrieval.\n",
        "    - The key difference between a list and a dictionary in terms of data retrieval lies in how the data is accessed:\n",
        "      (1) List:\n",
        "          - indexed by postions: you retrive data using integer indices (starting from 0).\n",
        "          - Retrival Time: fast (0(1) for direct access), but only if you know the index.\n",
        "       (2) Dictionary;\n",
        "           - indexed by key: you retrieve data using a unique key (which can be strings, numbers, etc.)\n",
        "           - Rerival time: also fast (average 0(1)), and often more intuitive when accessing data by name or identifier rather than position.\n",
        "   - Summary:\n",
        "      - Use a list when order matters or when data is naturally ordered.\n",
        "      - Use dictionary when you need to associate values with specific keys for quick lookup by nae or category.           "
      ],
      "metadata": {
        "id": "KJTE84PG_JU-"
      }
    },
    {
      "cell_type": "code",
      "source": [
        "## example of list:\n",
        "my_list= [\"apple\", \"banana\", \"cherry\"]\n",
        "print(my_list[1])"
      ],
      "metadata": {
        "colab": {
          "base_uri": "https://localhost:8080/"
        },
        "id": "UvV3ppRr4QV8",
        "outputId": "631009a5-1488-47ef-c9bc-fe8394455b2b"
      },
      "execution_count": null,
      "outputs": [
        {
          "output_type": "stream",
          "name": "stdout",
          "text": [
            "banana\n"
          ]
        }
      ]
    },
    {
      "cell_type": "code",
      "source": [
        "## Example of dictionary:\n",
        "my_dict= {\"fruit1\": \"apple\", \"fruit2\": \"banana\", \"fruit3\": \"cherry\"}\n",
        "print(my_dict[\"fruit3\"])"
      ],
      "metadata": {
        "colab": {
          "base_uri": "https://localhost:8080/"
        },
        "id": "8Z2JsH37e80P",
        "outputId": "3c20d0ef-eac2-49ac-babd-fe7616261fc6"
      },
      "execution_count": null,
      "outputs": [
        {
          "output_type": "stream",
          "name": "stdout",
          "text": [
            "cherry\n"
          ]
        }
      ]
    },
    {
      "cell_type": "markdown",
      "source": [
        "# Practical Questions"
      ],
      "metadata": {
        "id": "f_sjelJhpkMF"
      }
    },
    {
      "cell_type": "code",
      "source": [
        "# 1. write a code to create a string with your name and print It.\n",
        "name=\"Manisha\"\n",
        "print(name)"
      ],
      "metadata": {
        "colab": {
          "base_uri": "https://localhost:8080/"
        },
        "id": "whOU0Zd5ftHD",
        "outputId": "95a1bfa3-8a2c-450d-c0d1-01c24a09fb76"
      },
      "execution_count": null,
      "outputs": [
        {
          "output_type": "stream",
          "name": "stdout",
          "text": [
            "Manisha\n"
          ]
        }
      ]
    },
    {
      "cell_type": "code",
      "source": [
        "# 2. write a code to find the lenghth of the string \"Hello World\"\n",
        "string=\"Hello World\"\n",
        "print(len(string))"
      ],
      "metadata": {
        "colab": {
          "base_uri": "https://localhost:8080/"
        },
        "id": "JTYB8qgdqK2d",
        "outputId": "f5089a82-0ed5-49a1-ce5b-f0ad3f5995c0"
      },
      "execution_count": null,
      "outputs": [
        {
          "output_type": "stream",
          "name": "stdout",
          "text": [
            "11\n"
          ]
        }
      ]
    },
    {
      "cell_type": "code",
      "source": [
        "# 3. write a code to slice the first 3 chracter from the string \"Python Programming\"\n",
        "string= \"Python Programming\"\n",
        "print(string[0:3])"
      ],
      "metadata": {
        "colab": {
          "base_uri": "https://localhost:8080/"
        },
        "id": "MsrPCWOTrQQ_",
        "outputId": "b3b11aa1-65aa-45a8-e557-5c059ed64d27"
      },
      "execution_count": null,
      "outputs": [
        {
          "output_type": "stream",
          "name": "stdout",
          "text": [
            "Pyt\n"
          ]
        }
      ]
    },
    {
      "cell_type": "code",
      "source": [
        "# 4. Write a code to convert the string \"Hello\" to uppercase.\n",
        "string=\"Hello\"\n",
        "print(string.upper())"
      ],
      "metadata": {
        "colab": {
          "base_uri": "https://localhost:8080/"
        },
        "id": "oVTFuWShr1im",
        "outputId": "b06e743c-2926-415c-8315-60dfb265f31c"
      },
      "execution_count": null,
      "outputs": [
        {
          "output_type": "stream",
          "name": "stdout",
          "text": [
            "HELLO\n"
          ]
        }
      ]
    },
    {
      "cell_type": "code",
      "source": [
        "# 5. write a code to replace the word \"apple\" with \"orange\" in the string \"I like apple\"\n",
        "string=\"I like apple\"\n",
        "print(string.replace(\"apple\", \"orange\"))"
      ],
      "metadata": {
        "colab": {
          "base_uri": "https://localhost:8080/"
        },
        "id": "3yEyCNdfsd_M",
        "outputId": "9ba5cab6-ebe4-4246-b1e3-5a183ffa99cc"
      },
      "execution_count": null,
      "outputs": [
        {
          "output_type": "stream",
          "name": "stdout",
          "text": [
            "I like orange\n"
          ]
        }
      ]
    },
    {
      "cell_type": "code",
      "source": [
        "# 6. write a code to create a list with number 1 to 5 and print it.\n",
        "list=[1, 2, 3, 4, 5]\n",
        "print(list)"
      ],
      "metadata": {
        "colab": {
          "base_uri": "https://localhost:8080/"
        },
        "id": "XW70KjmRthFq",
        "outputId": "c6314d28-48d4-4481-fc18-94e0a1371cac"
      },
      "execution_count": null,
      "outputs": [
        {
          "output_type": "stream",
          "name": "stdout",
          "text": [
            "[1, 2, 3, 4, 5]\n"
          ]
        }
      ]
    },
    {
      "cell_type": "code",
      "source": [
        "# 7. Write a code to append the number 10 to the list [1, 2, 3, 4]\n",
        "list= [1, 2, 3, 4]\n",
        "list.append(10)\n",
        "print(list)"
      ],
      "metadata": {
        "colab": {
          "base_uri": "https://localhost:8080/"
        },
        "id": "ZjX-yCXEuxYm",
        "outputId": "9f4f2226-c4d0-4922-f3f2-9240846394be"
      },
      "execution_count": null,
      "outputs": [
        {
          "output_type": "stream",
          "name": "stdout",
          "text": [
            "[1, 2, 3, 4, 10]\n"
          ]
        }
      ]
    },
    {
      "cell_type": "code",
      "source": [
        "# 8. write a code to remove the number 3 from the list [1, 2, 3, 4, 5]\n",
        "list= [1, 2, 3, 4, 5]\n",
        "list.remove(3)\n",
        "print(list)"
      ],
      "metadata": {
        "colab": {
          "base_uri": "https://localhost:8080/"
        },
        "id": "12KPEmg6wWYj",
        "outputId": "e1632471-2396-4f36-a8bd-5c17a6f0caf0"
      },
      "execution_count": null,
      "outputs": [
        {
          "output_type": "stream",
          "name": "stdout",
          "text": [
            "[1, 2, 4, 5]\n"
          ]
        }
      ]
    },
    {
      "cell_type": "code",
      "source": [
        "# 9. write a code to access the second element in the list [\"a\", \"b\", \"c\", \"d\"]\n",
        "list=[\"a\", \"b\", \"c\", \"d\"]\n",
        "print(list[1])"
      ],
      "metadata": {
        "colab": {
          "base_uri": "https://localhost:8080/"
        },
        "id": "jVLn3k32xFzc",
        "outputId": "2b6bef47-4d79-48c7-bbbe-267e98c425be"
      },
      "execution_count": null,
      "outputs": [
        {
          "output_type": "stream",
          "name": "stdout",
          "text": [
            "b\n"
          ]
        }
      ]
    },
    {
      "cell_type": "code",
      "source": [
        "# 10. write a code to reverse the list [10, 20, 30, 40, 50]\n",
        "list=[10, 20, 30, 40, 50]\n",
        "print(list[::-1])"
      ],
      "metadata": {
        "colab": {
          "base_uri": "https://localhost:8080/"
        },
        "id": "5wGCQQqoxxnG",
        "outputId": "baeb46cc-b53c-4239-b7f2-7794071ea5a8"
      },
      "execution_count": null,
      "outputs": [
        {
          "output_type": "stream",
          "name": "stdout",
          "text": [
            "[50, 40, 30, 20, 10]\n"
          ]
        }
      ]
    },
    {
      "cell_type": "code",
      "source": [
        "# 11. write a code to create a tuple with the element 100, 200, 300 and print it.\n",
        "tuple= (100, 200, 300)\n",
        "print(tuple)"
      ],
      "metadata": {
        "colab": {
          "base_uri": "https://localhost:8080/"
        },
        "id": "3miiioWMyRPR",
        "outputId": "24287df1-6d21-47e2-a4a2-b30500a4eca5"
      },
      "execution_count": null,
      "outputs": [
        {
          "output_type": "stream",
          "name": "stdout",
          "text": [
            "(100, 200, 300)\n"
          ]
        }
      ]
    },
    {
      "cell_type": "code",
      "source": [
        "# 12.write a code to access the second-to-last element of the tuple ('red', 'green', 'blue', 'yellow')\n",
        "tuple= ('red', 'green', 'blue', 'yellow')\n",
        "print(tuple[-2])"
      ],
      "metadata": {
        "colab": {
          "base_uri": "https://localhost:8080/"
        },
        "id": "UCj-bfk73-ml",
        "outputId": "b251c529-0c49-4c70-af80-6202923c92b0"
      },
      "execution_count": null,
      "outputs": [
        {
          "output_type": "stream",
          "name": "stdout",
          "text": [
            "blue\n"
          ]
        }
      ]
    },
    {
      "cell_type": "code",
      "source": [
        "#13. write a code to find minimum number in the tuples (10, 20, 5, 15)\n",
        "tuple= (10, 20, 5, 15)\n",
        "print(min(tuple))"
      ],
      "metadata": {
        "colab": {
          "base_uri": "https://localhost:8080/"
        },
        "id": "uQqWcO1w494L",
        "outputId": "93c3d669-6712-49dd-a137-b9a1cd6549cd"
      },
      "execution_count": null,
      "outputs": [
        {
          "output_type": "stream",
          "name": "stdout",
          "text": [
            "5\n"
          ]
        }
      ]
    },
    {
      "cell_type": "code",
      "source": [
        "# 14. Write a code to find the index of the element \"cat\" in the tuple ('day', 'cat', 'rabbit')\n",
        "tuple=('dog', 'cat', 'rabbit')\n",
        "print(tuple.index('cat'))\n"
      ],
      "metadata": {
        "id": "DzSpxRjB5YP6",
        "colab": {
          "base_uri": "https://localhost:8080/"
        },
        "outputId": "41b38083-609d-4fe8-d66a-22c081c1ca3b"
      },
      "execution_count": null,
      "outputs": [
        {
          "output_type": "stream",
          "name": "stdout",
          "text": [
            "1\n"
          ]
        }
      ]
    },
    {
      "cell_type": "code",
      "source": [
        "# 15. write a code to create a tuple containing three different fruits and check if \"kiwi\" is in it.\n",
        "tuple= (\"apple\", \"banana\", \"orange\")\n",
        "print(\"kiwi\" in tuple)\n"
      ],
      "metadata": {
        "colab": {
          "base_uri": "https://localhost:8080/"
        },
        "id": "AVAwbep0jQ2B",
        "outputId": "1d8a79dd-7031-4207-a523-c7f872012ec5"
      },
      "execution_count": null,
      "outputs": [
        {
          "output_type": "stream",
          "name": "stdout",
          "text": [
            "False\n"
          ]
        }
      ]
    },
    {
      "cell_type": "code",
      "source": [
        "# 16. write a code to create set with the elements 'a', 'b', 'c', and print it.\n",
        "s= {\"a\", \"b\", \"c\"}\n",
        "print(s)\n"
      ],
      "metadata": {
        "colab": {
          "base_uri": "https://localhost:8080/"
        },
        "id": "Uc1EEbwzkox7",
        "outputId": "32bb360e-954a-4250-8313-c0b37bdba1a8"
      },
      "execution_count": 57,
      "outputs": [
        {
          "output_type": "stream",
          "name": "stdout",
          "text": [
            "{'a', 'b', 'c'}\n"
          ]
        }
      ]
    },
    {
      "cell_type": "code",
      "source": [
        "# 17. Write a code to clear all elements from set {1, 2, 3, 4}\n",
        "set3 = {1, 2, 3, 4}\n",
        "set3.clear()\n",
        "print(set3)"
      ],
      "metadata": {
        "colab": {
          "base_uri": "https://localhost:8080/"
        },
        "id": "OJ-nlKCDmLBl",
        "outputId": "0eab20ea-32cf-4760-f358-71be5ff86270"
      },
      "execution_count": 73,
      "outputs": [
        {
          "output_type": "stream",
          "name": "stdout",
          "text": [
            "set()\n"
          ]
        }
      ]
    },
    {
      "cell_type": "code",
      "source": [
        "# 18. Write a code to remove the element 4 frome the set {1, 2, 3, 4}\n",
        "set5= {1, 2, 3, 4}\n",
        "set5.remove(4)\n",
        "print(set5)"
      ],
      "metadata": {
        "colab": {
          "base_uri": "https://localhost:8080/"
        },
        "id": "mF-M8N1dm2BI",
        "outputId": "82c9d415-36cc-4d6b-f8b4-5b0857fbe3c5"
      },
      "execution_count": 48,
      "outputs": [
        {
          "output_type": "stream",
          "name": "stdout",
          "text": [
            "{1, 2, 3}\n"
          ]
        }
      ]
    },
    {
      "cell_type": "code",
      "source": [
        "# 19. Write a code to find the union of two sets {1, 2, 3} and {3, 4, 5}\n",
        "set1= {1, 2, 3}\n",
        "set2= {3, 4, 5}\n",
        "print(set1.union(set2))"
      ],
      "metadata": {
        "colab": {
          "base_uri": "https://localhost:8080/"
        },
        "id": "TQsqmUOJnbqq",
        "outputId": "4c8b4c7d-3dbf-4133-e134-d7818d846110"
      },
      "execution_count": null,
      "outputs": [
        {
          "output_type": "stream",
          "name": "stdout",
          "text": [
            "{1, 2, 3, 4, 5}\n"
          ]
        }
      ]
    },
    {
      "cell_type": "code",
      "source": [
        "# 20. Write a code to find the intersection of two sets {1, 2, 3} and {2, 3, 4}\n",
        "set1= {1, 2, 3}\n",
        "set2= {2, 3, 4}\n",
        "print(set1.intersection(set2))"
      ],
      "metadata": {
        "colab": {
          "base_uri": "https://localhost:8080/"
        },
        "id": "AwSSrf2YoGOG",
        "outputId": "c2c31061-e72c-44d8-b24f-f7f78312c729"
      },
      "execution_count": null,
      "outputs": [
        {
          "output_type": "stream",
          "name": "stdout",
          "text": [
            "{2, 3}\n"
          ]
        }
      ]
    },
    {
      "cell_type": "code",
      "source": [
        "# 21. Write a code to create a dictionary with the keys \"name\", \"age\" and \"city\" & print it.\n",
        "dict= {\"name\": \"Manisha\", \"age\": 27, \"city\": \"Mumbai\"}\n",
        "print(dict)"
      ],
      "metadata": {
        "colab": {
          "base_uri": "https://localhost:8080/"
        },
        "id": "saORiTC1pXp-",
        "outputId": "7a4db602-571e-4d62-9762-16ea5c8a9b9a"
      },
      "execution_count": null,
      "outputs": [
        {
          "output_type": "stream",
          "name": "stdout",
          "text": [
            "{'name': 'Manisha', 'age': 27, 'city': 'Mumbai'}\n"
          ]
        }
      ]
    },
    {
      "cell_type": "code",
      "source": [
        "# 22. Write a code to add a new key-value pair \"country\": \"USA\" to the dictionary {\"name\": \"Jhon\", \"age\": 25}\n",
        "dict= {\"name\": \"jhon\", \"age\": 25}\n",
        "dict[\"country\"]= \"USA\"\n",
        "print(dict)"
      ],
      "metadata": {
        "colab": {
          "base_uri": "https://localhost:8080/"
        },
        "id": "fQqIq2AGp1rz",
        "outputId": "6ee3a965-1266-422f-bb99-a5c55726eb37"
      },
      "execution_count": null,
      "outputs": [
        {
          "output_type": "stream",
          "name": "stdout",
          "text": [
            "{'name': 'jhon', 'age': 25, 'country': 'USA'}\n"
          ]
        }
      ]
    },
    {
      "cell_type": "code",
      "source": [
        "# 23. Write a code to access the value associated with key \"name\" in the dictionary{\"name\": \"Alice\", \"age\": 30}.\n",
        "dict= {\"name\": \"Alice\", \"age\": 30}\n",
        "print(dict[\"name\"])"
      ],
      "metadata": {
        "colab": {
          "base_uri": "https://localhost:8080/"
        },
        "id": "Wjlqk7ObrUv8",
        "outputId": "87499187-04df-445a-dbeb-f742144d6264"
      },
      "execution_count": null,
      "outputs": [
        {
          "output_type": "stream",
          "name": "stdout",
          "text": [
            "Alice\n"
          ]
        }
      ]
    },
    {
      "cell_type": "code",
      "source": [
        "# 24. write a code to remove the key \"age\" from the dictionary {\"name\": \"Bob\", \"age\": 22, \"city\": \"New York\"}\n",
        "dict= {\"name\": \"Bob\", \"age\": 22, \"city\": \"New York\"}\n",
        "dict.pop(\"age\")\n",
        "print(dict)"
      ],
      "metadata": {
        "colab": {
          "base_uri": "https://localhost:8080/"
        },
        "id": "bWMoNGgOscyT",
        "outputId": "ed49275f-e246-46a3-8e2b-13e84f62fad6"
      },
      "execution_count": 71,
      "outputs": [
        {
          "output_type": "stream",
          "name": "stdout",
          "text": [
            "{'name': 'Bob', 'city': 'New York'}\n"
          ]
        }
      ]
    },
    {
      "cell_type": "code",
      "source": [
        "# 25. Write a code to check if the key \"city\" exists in the dictionary {\"name\": \"Alice\", \"city\": \"Paris\"}\n",
        "dict= {\"name\": \"Alice\", \"city\": \"Paris\"}\n",
        "print(\"city\" in dict)"
      ],
      "metadata": {
        "colab": {
          "base_uri": "https://localhost:8080/"
        },
        "id": "xIMsNvH3tYDL",
        "outputId": "569a7d29-e4cd-4d2a-9292-f329637cdfae"
      },
      "execution_count": null,
      "outputs": [
        {
          "output_type": "stream",
          "name": "stdout",
          "text": [
            "True\n"
          ]
        }
      ]
    },
    {
      "cell_type": "code",
      "source": [
        "# 26. write a code to create a list, a tuple, and a dictionary & print them all.\n",
        "list= [1, 2, 3, 4, 5]\n",
        "tuple= (1, 2, 3.4, True, \"Manisha\")\n",
        "dict= {\"name\": \"Manisha\", \"age\": 27, \"city\": \"mumbai\"}\n",
        "print(list)\n",
        "print(tuple)\n",
        "print(dict)\n"
      ],
      "metadata": {
        "colab": {
          "base_uri": "https://localhost:8080/"
        },
        "id": "8Qzodu7huRDg",
        "outputId": "0a3f0d05-1b9d-4d10-84b3-6c0b9dcbcc26"
      },
      "execution_count": null,
      "outputs": [
        {
          "output_type": "stream",
          "name": "stdout",
          "text": [
            "[1, 2, 3, 4, 5]\n",
            "(1, 2, 3.4, True, 'Manisha')\n",
            "{'name': 'Manisha', 'age': 27, 'city': 'mumbai'}\n"
          ]
        }
      ]
    },
    {
      "cell_type": "code",
      "source": [
        "# 27. Write a code to Create a list of 5 random numbers between 1 & 100, sort it in asecending order and print the result. (replaced)\n",
        "list=[52, 99, 81, 72, 45]\n",
        "list.sort()\n",
        "print(list)\n"
      ],
      "metadata": {
        "colab": {
          "base_uri": "https://localhost:8080/"
        },
        "id": "z2NEXVYUvni1",
        "outputId": "cb720c2f-5aa5-4e27-b6f2-9412abc9b308"
      },
      "execution_count": null,
      "outputs": [
        {
          "output_type": "stream",
          "name": "stdout",
          "text": [
            "[45, 52, 72, 81, 99]\n"
          ]
        }
      ]
    },
    {
      "cell_type": "code",
      "source": [
        "# 28. Write a code to create a list with strings and print the element at the third index.\n",
        "list= [\"anisha\", \"Naman\", \"Sucheta\", \"Bishal\"]\n",
        "print(list[2])"
      ],
      "metadata": {
        "colab": {
          "base_uri": "https://localhost:8080/"
        },
        "id": "fTqjSWN7wxl2",
        "outputId": "c6f7f24c-2087-4bc8-e242-1b04f32aebcc"
      },
      "execution_count": null,
      "outputs": [
        {
          "output_type": "stream",
          "name": "stdout",
          "text": [
            "Sucheta\n"
          ]
        }
      ]
    },
    {
      "cell_type": "code",
      "source": [
        "# 29. Write a code to combine two dictionaries into one and print the result.\n",
        "dict1= {\"name\": \"Manisha\", \"age\": 27}\n",
        "dict2= {\"city\": \"Mumbai\", \"country\": \"India\"}\n",
        "dict1.update(dict2)\n",
        "print(dict1)"
      ],
      "metadata": {
        "colab": {
          "base_uri": "https://localhost:8080/"
        },
        "id": "_JDVOwqxx2nt",
        "outputId": "ae2a1dc6-929c-488d-ce1e-b1cd867c2902"
      },
      "execution_count": null,
      "outputs": [
        {
          "output_type": "stream",
          "name": "stdout",
          "text": [
            "{'name': 'Manisha', 'age': 27, 'city': 'Mumbai', 'country': 'India'}\n"
          ]
        }
      ]
    },
    {
      "cell_type": "code",
      "source": [
        "# 30. write a code to convert a list of strings into a set.\n",
        "list_strings= [\"apple\", \"banana\", \"cherry\"]\n",
        "list_set= set(list_strings)\n",
        "print(list_set) # I'm trying a lot but it could not be sloved. thank you."
      ],
      "metadata": {
        "colab": {
          "base_uri": "https://localhost:8080/",
          "height": 194
        },
        "id": "7I8yyRQPAz8w",
        "outputId": "dd362ee8-3c41-4b44-82c0-8c7e80c0f557"
      },
      "execution_count": 78,
      "outputs": [
        {
          "output_type": "error",
          "ename": "TypeError",
          "evalue": "'set' object is not callable",
          "traceback": [
            "\u001b[0;31m---------------------------------------------------------------------------\u001b[0m",
            "\u001b[0;31mTypeError\u001b[0m                                 Traceback (most recent call last)",
            "\u001b[0;32m<ipython-input-78-1d2ad6f9c038>\u001b[0m in \u001b[0;36m<cell line: 0>\u001b[0;34m()\u001b[0m\n\u001b[1;32m      1\u001b[0m \u001b[0;31m# 30. write a code to convert a list of strings into a set.\u001b[0m\u001b[0;34m\u001b[0m\u001b[0;34m\u001b[0m\u001b[0m\n\u001b[1;32m      2\u001b[0m \u001b[0mlist_strings\u001b[0m\u001b[0;34m=\u001b[0m \u001b[0;34m[\u001b[0m\u001b[0;34m\"apple\"\u001b[0m\u001b[0;34m,\u001b[0m \u001b[0;34m\"banana\"\u001b[0m\u001b[0;34m,\u001b[0m \u001b[0;34m\"cherry\"\u001b[0m\u001b[0;34m]\u001b[0m\u001b[0;34m\u001b[0m\u001b[0;34m\u001b[0m\u001b[0m\n\u001b[0;32m----> 3\u001b[0;31m \u001b[0mlist_set\u001b[0m\u001b[0;34m=\u001b[0m \u001b[0mset\u001b[0m\u001b[0;34m(\u001b[0m\u001b[0mlist_strings\u001b[0m\u001b[0;34m)\u001b[0m\u001b[0;34m\u001b[0m\u001b[0;34m\u001b[0m\u001b[0m\n\u001b[0m\u001b[1;32m      4\u001b[0m \u001b[0mprint\u001b[0m\u001b[0;34m(\u001b[0m\u001b[0mlist_set\u001b[0m\u001b[0;34m)\u001b[0m \u001b[0;31m# I'm trying a lot but it could not be sloved. thank you.\u001b[0m\u001b[0;34m\u001b[0m\u001b[0;34m\u001b[0m\u001b[0m\n",
            "\u001b[0;31mTypeError\u001b[0m: 'set' object is not callable"
          ]
        }
      ]
    },
    {
      "cell_type": "code",
      "source": [],
      "metadata": {
        "id": "dDPCVhHWDpAF"
      },
      "execution_count": null,
      "outputs": []
    }
  ]
}