{
  "nbformat": 4,
  "nbformat_minor": 0,
  "metadata": {
    "colab": {
      "provenance": [],
      "authorship_tag": "ABX9TyM9kuvWeFOd/T7w/+BJW9T3",
      "include_colab_link": true
    },
    "kernelspec": {
      "name": "python3",
      "display_name": "Python 3"
    },
    "language_info": {
      "name": "python"
    }
  },
  "cells": [
    {
      "cell_type": "markdown",
      "metadata": {
        "id": "view-in-github",
        "colab_type": "text"
      },
      "source": [
        "<a href=\"https://colab.research.google.com/github/Prakhi20/Python-basics/blob/main/pythonbasic.ipynb\" target=\"_parent\"><img src=\"https://colab.research.google.com/assets/colab-badge.svg\" alt=\"Open In Colab\"/></a>"
      ]
    },
    {
      "cell_type": "code",
      "execution_count": null,
      "metadata": {
        "id": "ops0d-2zQGmw"
      },
      "outputs": [],
      "source": [
        "#PYTHON BASICS"
      ]
    },
    {
      "cell_type": "code",
      "source": [],
      "metadata": {
        "id": "rpegYQdlRGl_"
      },
      "execution_count": null,
      "outputs": []
    },
    {
      "cell_type": "markdown",
      "source": [
        "1. Explain the key feaures of python that make it a opopular choice for programming ?\n",
        "     - the key features of python are:\n",
        "         (a) it is a portable language, in other words it is a programming language that is easy to understand and write.\n",
        "         (b) it is compatible with various programming paradigms, such as procedural, objects-oriented and functional programming.\n",
        "         (c) python has a large and active community of developers, an extensive standard library, and third-party package for various domains.\n",
        "         "
      ],
      "metadata": {
        "id": "ljU26wB1RLHO"
      }
    },
    {
      "cell_type": "markdown",
      "source": [
        "2. Describe the role of predefined keywords in python and provide example of how they are used in aa program ?\n",
        "      - Keywords in python are predefiend words tht holds a special meaning and have specific purpose, and also its rare case-sensitive and cannot be redefined or overridden within a python progrm. Their are 36 predefined keywords.\n",
        "    "
      ],
      "metadata": {
        "id": "5JBItXbFUuyB"
      }
    },
    {
      "cell_type": "code",
      "source": [
        "# Example of Predefined keyword\n",
        "name = input(\"enter your name:  \")\n",
        "print(name)"
      ],
      "metadata": {
        "colab": {
          "base_uri": "https://localhost:8080/"
        },
        "id": "cpZtxo8CfhT5",
        "outputId": "d8aefde7-9644-4036-c730-bf3ae3e90cd5"
      },
      "execution_count": null,
      "outputs": [
        {
          "output_type": "stream",
          "name": "stdout",
          "text": [
            "enter your name:  Manisha\n",
            "Manisha\n"
          ]
        }
      ]
    },
    {
      "cell_type": "markdown",
      "source": [
        "3. Compare and contrast mutable and immutable objects in python with example ?\n",
        "    - (a) Mutable: Objects whose state or value can be changed after they created are called as mutable objects, also called as item assignment .\n",
        "      Example : List , set and dictionary.\n",
        "      (b) Immutable: Objects whose state or value cannot be changed after they are created are called as immutable objects.\n",
        "      Example; tuples, int., float, bool, String, etc.\n",
        "      "
      ],
      "metadata": {
        "id": "CZZk6mTOgqrM"
      }
    },
    {
      "cell_type": "markdown",
      "source": [
        "4. Discuss the different types of operators in python and provide example of how they are used ?\n",
        "   - the types of operators in pythons are:\n",
        "             (a) Arithmatics operator : Examples oof arithmatics operators are + (addition), -(subtraction), *(multiplication), /(division), etc.\n",
        "             (b) Modulus operator\n",
        "             (c) Floor operator\n",
        "             (d) Comparison operator\n",
        "             (e) Logical operator\n",
        "             (f) Not operator\n",
        "             (g) Assignment operator\n",
        "             (h) Membership operator\n",
        "             (i) identitify operator\n",
        "             (j) biwise operator\n",
        "\n",
        "\n"
      ],
      "metadata": {
        "id": "GC4D_t9Sj1gq"
      }
    },
    {
      "cell_type": "markdown",
      "source": [],
      "metadata": {
        "id": "Pu2xqvrrgk0T"
      }
    },
    {
      "cell_type": "code",
      "source": [
        "# Arithematics Operator Example;\n",
        "a=15\n",
        "b=10\n",
        "print(a+b)\n",
        "print(a-b)\n",
        "print(a*b)\n",
        "print(a/b)\n"
      ],
      "metadata": {
        "colab": {
          "base_uri": "https://localhost:8080/"
        },
        "id": "FZ9EH9YJoQA6",
        "outputId": "8cb6852f-7437-48cf-9b7c-0103df4842e3"
      },
      "execution_count": null,
      "outputs": [
        {
          "output_type": "stream",
          "name": "stdout",
          "text": [
            "25\n",
            "5\n",
            "150\n",
            "1.5\n"
          ]
        }
      ]
    },
    {
      "cell_type": "code",
      "source": [
        "# Example of modulus Operators:\n",
        "a=300\n",
        "b=160\n",
        "print(a%b)"
      ],
      "metadata": {
        "colab": {
          "base_uri": "https://localhost:8080/"
        },
        "id": "bRc8Au5ZnGzi",
        "outputId": "4322aac0-2063-4ae7-b13d-c750e2523b77"
      },
      "execution_count": null,
      "outputs": [
        {
          "output_type": "stream",
          "name": "stdout",
          "text": [
            "140\n"
          ]
        }
      ]
    },
    {
      "cell_type": "code",
      "source": [
        "# example of Floor Operators:\n",
        "a=4\n",
        "b=3\n",
        "print(a//b)"
      ],
      "metadata": {
        "colab": {
          "base_uri": "https://localhost:8080/"
        },
        "id": "39qtKyNvYoVF",
        "outputId": "d6af8139-392e-4800-f188-6985e1519cbb"
      },
      "execution_count": null,
      "outputs": [
        {
          "output_type": "stream",
          "name": "stdout",
          "text": [
            "1\n"
          ]
        }
      ]
    },
    {
      "cell_type": "code",
      "source": [
        "# Example of Comparison Operators:\n",
        "a=13\n",
        "b=33\n",
        "print(a>b)\n",
        "print(a<b)\n",
        "print(a==b)\n",
        "print(a!=b)\n",
        "print(a>=b)\n",
        "print(a<=b)\n",
        "\n",
        "\n",
        "\n"
      ],
      "metadata": {
        "colab": {
          "base_uri": "https://localhost:8080/"
        },
        "id": "A_8ThbSgqJy3",
        "outputId": "64b657a9-198b-4d8c-eaed-d67d2fe1071e"
      },
      "execution_count": null,
      "outputs": [
        {
          "output_type": "stream",
          "name": "stdout",
          "text": [
            "False\n",
            "True\n",
            "False\n",
            "True\n",
            "False\n",
            "True\n"
          ]
        }
      ]
    },
    {
      "cell_type": "code",
      "source": [
        "#logical Operators:\n",
        "a= True\n",
        "b= False\n",
        "print(a and b)\n",
        "print( a or b)\n",
        "print( not a)\n"
      ],
      "metadata": {
        "colab": {
          "base_uri": "https://localhost:8080/"
        },
        "id": "j60BoN37rIqf",
        "outputId": "d4681dfa-5b22-4037-ada3-41081836d3fa"
      },
      "execution_count": null,
      "outputs": [
        {
          "output_type": "stream",
          "name": "stdout",
          "text": [
            "False\n",
            "True\n",
            "False\n"
          ]
        }
      ]
    },
    {
      "cell_type": "code",
      "source": [
        "#assignment operator:\n",
        "a=10\n",
        "b=a\n",
        "print(b)\n",
        "b=a+b\n",
        "print(b)\n",
        "\n"
      ],
      "metadata": {
        "colab": {
          "base_uri": "https://localhost:8080/"
        },
        "id": "JpR8a6pyrxPB",
        "outputId": "817f5323-0a22-49ad-9eb4-c36c96f9bc5c"
      },
      "execution_count": null,
      "outputs": [
        {
          "output_type": "stream",
          "name": "stdout",
          "text": [
            "10\n",
            "20\n"
          ]
        }
      ]
    },
    {
      "cell_type": "code",
      "source": [
        "# Membership Operator:\n",
        "x=24\n",
        "y=20\n",
        "lis= [10, 20, 30, 40, 50]\n",
        "if(x not in lis):\n",
        "  print(\"x is not present in given list\")\n",
        "else:\n",
        "    print(\"y is present in given list\")"
      ],
      "metadata": {
        "colab": {
          "base_uri": "https://localhost:8080/"
        },
        "id": "nbXDBaftsMIK",
        "outputId": "05a2bc93-2804-4767-fed7-94a08a9df12f"
      },
      "execution_count": null,
      "outputs": [
        {
          "output_type": "stream",
          "name": "stdout",
          "text": [
            "x is not present in given list\n"
          ]
        }
      ]
    },
    {
      "cell_type": "code",
      "source": [
        "# identitify operateror:\n",
        "a=2\n",
        "b=3\n",
        "a = b"
      ],
      "metadata": {
        "id": "DUZA7wNWt8GE"
      },
      "execution_count": null,
      "outputs": []
    },
    {
      "cell_type": "code",
      "source": [
        "# bitwise operator:\n",
        "a=10\n",
        "b=4\n",
        "print(a&b)\n",
        "print(a|b)\n",
        "print(~a)\n",
        "print(a^b)\n",
        "print(a>>2)"
      ],
      "metadata": {
        "colab": {
          "base_uri": "https://localhost:8080/"
        },
        "id": "4k8NnXduve8k",
        "outputId": "dfc960a5-70b4-4870-babe-a7e68e9c7926"
      },
      "execution_count": null,
      "outputs": [
        {
          "output_type": "stream",
          "name": "stdout",
          "text": [
            "0\n",
            "14\n",
            "-11\n",
            "14\n",
            "2\n"
          ]
        }
      ]
    },
    {
      "cell_type": "markdown",
      "source": [
        "5. Explain The concept of type casting in python with example?we us\n",
        "    - the procss of changing the data type of a value/object in python\n",
        "    - type casting is necessary becuse some time while exexcuting/compution using operator , there can be mismatch between the data type.\n",
        "    - example a=2 b=3\n",
        "      a+b = thrown an error\n",
        "      but if we use\n",
        "      int.(a) + b= 5"
      ],
      "metadata": {
        "id": "U34CcdP4vyCk"
      }
    },
    {
      "cell_type": "markdown",
      "source": [
        "\n",
        "6. How do conditional statement work in python? illustrate with example.name\n",
        "  - conditional in python are used to execute code basedon the evaluation of one or more conditions.\n",
        "  - python supports conditional statements such as if , elif (else if0, and slse to control the flow of execution.\n",
        "  - condtionals can be nested to handle mutiple conditions and control different branches of execution based on the outcome of logical expressions."
      ],
      "metadata": {
        "id": "udN4Y3VgynI1"
      }
    },
    {
      "cell_type": "markdown",
      "source": [],
      "metadata": {
        "id": "HpLWjF46yah0"
      }
    }
  ]
}