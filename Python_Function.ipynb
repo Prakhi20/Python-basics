{
  "nbformat": 4,
  "nbformat_minor": 0,
  "metadata": {
    "colab": {
      "provenance": [],
      "authorship_tag": "ABX9TyPkE35CQWgYZVPB2iDiWxv8",
      "include_colab_link": true
    },
    "kernelspec": {
      "name": "python3",
      "display_name": "Python 3"
    },
    "language_info": {
      "name": "python"
    }
  },
  "cells": [
    {
      "cell_type": "markdown",
      "metadata": {
        "id": "view-in-github",
        "colab_type": "text"
      },
      "source": [
        "<a href=\"https://colab.research.google.com/github/Prakhi20/Python-basics/blob/main/Python_Function.ipynb\" target=\"_parent\"><img src=\"https://colab.research.google.com/assets/colab-badge.svg\" alt=\"Open In Colab\"/></a>"
      ]
    },
    {
      "cell_type": "markdown",
      "source": [
        "# FUNCTION:"
      ],
      "metadata": {
        "id": "BYR0Oy5P464v"
      }
    },
    {
      "cell_type": "markdown",
      "source": [
        "## ***Theory*** ***Question***:"
      ],
      "metadata": {
        "id": "wOTWQMTF5D2G"
      }
    },
    {
      "cell_type": "markdown",
      "source": [
        "1. What is the difference between a function and a method in Python ?\n",
        "    - In Python, functions and methods are both blocks of resusable code, but they differ mainly in how they are associated with objects:\n",
        "\n",
        " #### **Function**:\n",
        "        - A function is a standalone block of code that performs a specific task. It is defined using the def keyword and can be called independently.\n",
        "\n",
        "  #### **Method**:\n",
        "         - A method is a function that is associated with an object. It is called on an object(instance of a class), and it implicitly receives the object as its first argument (usually named self).\n",
        "\n",
        "  #### **Conclusion**:\n",
        "         - Function: independent, not tied to an object.\n",
        "         - Method: Belongs to an Object (class instance).italicised text       \n",
        "\n",
        "\n"
      ],
      "metadata": {
        "id": "1ALDmSsuqd3W"
      }
    },
    {
      "cell_type": "code",
      "source": [
        "# Example of function:\n",
        "def greetings():\n",
        "    print(\"Hello, world!\")\n",
        "\n",
        "greetings()"
      ],
      "metadata": {
        "colab": {
          "base_uri": "https://localhost:8080/"
        },
        "id": "PUMx6g0QwezK",
        "outputId": "2038c04d-75a1-4f71-9d46-fa32d22147aa"
      },
      "execution_count": null,
      "outputs": [
        {
          "output_type": "stream",
          "name": "stdout",
          "text": [
            "Hello, world!\n"
          ]
        }
      ]
    },
    {
      "cell_type": "code",
      "source": [
        "# Example of Method:\n",
        "class Person:\n",
        "    def __init__(self, name):\n",
        "        self.name = name\n",
        "\n",
        "    def say_hello(self):\n",
        "        print(f\"Hello, my name is {self.name}.\")\n",
        "\n",
        "person = Person(\"Manisha\")\n",
        "person.say_hello()"
      ],
      "metadata": {
        "colab": {
          "base_uri": "https://localhost:8080/"
        },
        "id": "0x_oMrFxxxH6",
        "outputId": "6ed11ed1-7959-4b6d-dd57-7e6978ed2b4c"
      },
      "execution_count": null,
      "outputs": [
        {
          "output_type": "stream",
          "name": "stdout",
          "text": [
            "Hello, my name is Manisha.\n"
          ]
        }
      ]
    },
    {
      "cell_type": "markdown",
      "source": [
        "2. Explain the concept of function arguments and parameters in python.\n",
        "    - In Python, arguments are related concepts used when working with functions:\n",
        "\n",
        "    #### Arguments:\n",
        "          - These are the actul valuse passed to the function when calling it.\n",
        "          - They are assigned to the corresponding parameters.\n",
        "\n",
        "    #### Parameters:\n",
        "          - These are the placeholders defined in the function definition.\n",
        "          - they act like variables that receive values when the function is called.      \n",
        "\n",
        "    #### Types of Arguments/Parameters:\n",
        "          (1). Positional- Matched by position.\n",
        "          (2). Keyword - Matched by name.\n",
        "          (3). Defult - Parameters with default values.\n",
        "          (4). Variable-length - Use*args (for tuple of postional args) and **kwarg (for dict of keyword args).       \n"
      ],
      "metadata": {
        "id": "c8E3a9Wvy4VG"
      }
    },
    {
      "cell_type": "code",
      "source": [
        "# Example of Arguments:\n",
        "def add_numbers(a, b):\n",
        "    return a + b\n",
        "\n",
        "result = add_numbers(3, 5)\n",
        "print(result)\n"
      ],
      "metadata": {
        "colab": {
          "base_uri": "https://localhost:8080/"
        },
        "id": "hh60FZukyNSa",
        "outputId": "e290c289-4caa-4eab-f823-d977078a8633"
      },
      "execution_count": null,
      "outputs": [
        {
          "output_type": "stream",
          "name": "stdout",
          "text": [
            "8\n"
          ]
        }
      ]
    },
    {
      "cell_type": "code",
      "source": [
        "# Example of Parameters:\n",
        "def greet(name):\n",
        "    print(f\"Hello, {name}!\")\n",
        "\n",
        "greet(\"Manisha\")"
      ],
      "metadata": {
        "colab": {
          "base_uri": "https://localhost:8080/"
        },
        "id": "17VcfmLR3rAn",
        "outputId": "1af67c06-ca2d-4924-9abf-2e81b5e4eb2e"
      },
      "execution_count": null,
      "outputs": [
        {
          "output_type": "stream",
          "name": "stdout",
          "text": [
            "Hello, Manisha!\n"
          ]
        }
      ]
    },
    {
      "cell_type": "markdown",
      "source": [
        "3. What are the different ways to define and call a function in Python ?\n",
        "    - In Python, Functions can be defined and called in several ways, depending on their structure and purpose. Here's a breakdown of the different ways to define and call Function:"
      ],
      "metadata": {
        "id": "B2CXltnc39lW"
      }
    },
    {
      "cell_type": "code",
      "source": [
        "# A.Regular Function\n",
        "## Definition:\n",
        "def add_numbers(a, b):\n",
        "    return a + b\n",
        "\n",
        "## Calling:\n",
        "result = add_numbers(3, 5)\n",
        "print(result)"
      ],
      "metadata": {
        "colab": {
          "base_uri": "https://localhost:8080/"
        },
        "id": "JdK9Py9s7vdl",
        "outputId": "afc06758-86cb-440b-c1e1-4eb27d279400"
      },
      "execution_count": null,
      "outputs": [
        {
          "output_type": "stream",
          "name": "stdout",
          "text": [
            "8\n"
          ]
        }
      ]
    },
    {
      "cell_type": "code",
      "source": [
        "# B.Function with Default Arguments:\n",
        "## definition:\n",
        "def greet(name=\"Guest\"):\n",
        "    print(f\"Hello, {name}!\")\n",
        "\n",
        "## Calling:\n",
        "greet()\n",
        "greet(\"Manisha\")"
      ],
      "metadata": {
        "colab": {
          "base_uri": "https://localhost:8080/"
        },
        "id": "e_yuC1fR74nJ",
        "outputId": "01323fcf-0f8e-4279-fc5d-8cee9fe848d7"
      },
      "execution_count": null,
      "outputs": [
        {
          "output_type": "stream",
          "name": "stdout",
          "text": [
            "Hello, Guest!\n",
            "Hello, Manisha!\n"
          ]
        }
      ]
    },
    {
      "cell_type": "code",
      "source": [
        "# C. Function With Positional and keyword arguments:\n",
        "## definition:\n",
        "def greet(name, message=\"Hello\"):\n",
        "    print(f\"{message}, {name}!\")\n",
        "\n",
        "## Calling:\n",
        "greet(\"Manisha\")\n",
        "greet(\"Manisha\", \"Hi\")\n"
      ],
      "metadata": {
        "colab": {
          "base_uri": "https://localhost:8080/"
        },
        "id": "epmRKRo3-M0j",
        "outputId": "0a791bde-a267-451a-caad-b4d4ea53002c"
      },
      "execution_count": null,
      "outputs": [
        {
          "output_type": "stream",
          "name": "stdout",
          "text": [
            "Hello, Manisha!\n",
            "Hi, Manisha!\n"
          ]
        }
      ]
    },
    {
      "cell_type": "code",
      "source": [
        "# D. Function with Variable-Length Arguments:\n",
        "## defintion:\n",
        "def print_numbers(*args):\n",
        "    for num in args:\n",
        "        print(num)\n",
        "\n",
        "## Calling:\n",
        "print_numbers(1, 2, 3, 4)\n"
      ],
      "metadata": {
        "colab": {
          "base_uri": "https://localhost:8080/"
        },
        "id": "cUPUJqAe-8Um",
        "outputId": "546bddbf-8e80-414b-81d7-d3e33147f341"
      },
      "execution_count": null,
      "outputs": [
        {
          "output_type": "stream",
          "name": "stdout",
          "text": [
            "1\n",
            "2\n",
            "3\n",
            "4\n"
          ]
        }
      ]
    },
    {
      "cell_type": "code",
      "source": [
        "# E. Lambda (Anonymous) Function:\n",
        "## definition:\n",
        "square = lambda x: x **\n",
        "\n",
        "## Calling:\n",
        "result = square(5)\n",
        "print(result)\n"
      ],
      "metadata": {
        "colab": {
          "base_uri": "https://localhost:8080/"
        },
        "id": "6mourEC-_qkH",
        "outputId": "ae5e3f2e-2891-4da2-c730-a498d27d8da0"
      },
      "execution_count": null,
      "outputs": [
        {
          "output_type": "stream",
          "name": "stdout",
          "text": [
            "25\n"
          ]
        }
      ]
    },
    {
      "cell_type": "code",
      "source": [
        "# F. Nested Function:\n",
        "## definition:\n",
        "def outer_function(x):\n",
        "    def inner_function(y):\n",
        "        return x + y\n",
        "    return inner_function\n",
        "\n",
        "## Calling:\n",
        "closure = outer_function(10)\n",
        "result = closure(5)\n",
        "print(result)\n"
      ],
      "metadata": {
        "colab": {
          "base_uri": "https://localhost:8080/"
        },
        "id": "e36wUkVmAE1M",
        "outputId": "315c7017-fc71-4bed-94d7-8cbf94077890"
      },
      "execution_count": null,
      "outputs": [
        {
          "output_type": "stream",
          "name": "stdout",
          "text": [
            "15\n"
          ]
        }
      ]
    },
    {
      "cell_type": "code",
      "source": [
        "# G. Recursion (function Calling Itself);\n",
        "## definition:\n",
        "def factorial(n):\n",
        "    if n == 0:\n",
        "        return 1\n",
        "    else:\n",
        "        return n * factorial(n - 1)\n",
        "\n",
        "## Calling:\n",
        "result = factorial(5)\n",
        "print(result)"
      ],
      "metadata": {
        "colab": {
          "base_uri": "https://localhost:8080/"
        },
        "id": "Iymsh_LFAaSV",
        "outputId": "f2638a0c-0e4d-4529-a501-d60239a0b416"
      },
      "execution_count": null,
      "outputs": [
        {
          "output_type": "stream",
          "name": "stdout",
          "text": [
            "120\n"
          ]
        }
      ]
    },
    {
      "cell_type": "markdown",
      "source": [
        "4. What is the Purpose of the \" return \" Statement in a Python Funtion ?\n",
        "    - The return statement in a Python function is used to send a result bac to the caller of the function. It ends the function's execution and optionally provides a value that can be used elsewhere in your code."
      ],
      "metadata": {
        "id": "pPYV1ILzAtMk"
      }
    },
    {
      "cell_type": "code",
      "source": [
        "# For Example:\n",
        "def add_numbers(a, b):\n",
        "    return a + b\n",
        "\n",
        "result = add_numbers(3, 5)\n",
        "print(result)"
      ],
      "metadata": {
        "id": "LNuTvQAzAoY4",
        "colab": {
          "base_uri": "https://localhost:8080/"
        },
        "outputId": "006d279f-734a-485d-87f4-504e67050598"
      },
      "execution_count": null,
      "outputs": [
        {
          "output_type": "stream",
          "name": "stdout",
          "text": [
            "8\n"
          ]
        }
      ]
    },
    {
      "cell_type": "markdown",
      "source": [
        "      - Here , return a+b sends the sum back to where the function was called, so it can be stored or used."
      ],
      "metadata": {
        "id": "QOdoPNOqr9_v"
      }
    },
    {
      "cell_type": "markdown",
      "source": [
        "5. What are iterators in Python and how do they differ from iterables ?\n",
        "    - In python, iterators and iterables are closely related but distinct concepts used for looping over data:\n",
        "\n",
        "    #### Iterable:\n",
        "           - An iterables is any Python object capable of returning its members one at a time.\n",
        "           - Examples: list, tuple,dict, set, str.\n",
        "           - it implements the_iter_() method, which returns an iterator.\n",
        "\n",
        "    #### Iterator:\n",
        "           - An iterator is an object that keeps state and produces the next value when you call next() on it.\n",
        "           - It implements both the__iter__() and ___nect__() methods.\n",
        "           - once exhausted, it cannot be reused unless recreated.\n",
        "\n",
        "   #### KEY DIFFERENCES:\n",
        "        - Purpose\n",
        "              - iterable can be looped over.\n",
        "              - iterator produces next value.\n",
        "        - Method\n",
        "              - iterable has ___iter__().\n",
        "              - iterator has ___iter__() and ___next__().\n",
        "        - Reusability\n",
        "              - iterable is resuable.\n",
        "              - iiterator is not resuable because it get exhausted.\n",
        "        - Example\n",
        "             - iterable: list, tuple, str, etc.\n",
        "             - iterator: result of iter().\n",
        "\n"
      ],
      "metadata": {
        "id": "wOR4p9EWsY4C"
      }
    },
    {
      "cell_type": "code",
      "source": [
        "# example of iterable:\n",
        "my_list = [1, 2, 3, 4, 5]\n",
        "my_iter = iter(my_list)\n",
        "\n",
        "print(next(my_iter))\n",
        "print(next(my_iter))"
      ],
      "metadata": {
        "colab": {
          "base_uri": "https://localhost:8080/"
        },
        "id": "bSSSHWUTr81j",
        "outputId": "a606fdbb-bb79-4f56-c0a4-9a4739050340"
      },
      "execution_count": null,
      "outputs": [
        {
          "output_type": "stream",
          "name": "stdout",
          "text": [
            "1\n",
            "2\n"
          ]
        }
      ]
    },
    {
      "cell_type": "code",
      "source": [
        "# Example of iterator:\n",
        "my_str = \"Hello\"\n",
        "my_iter = iter(my_str)\n",
        "\n",
        "print(next(my_iter))\n",
        "print(next(my_iter))"
      ],
      "metadata": {
        "colab": {
          "base_uri": "https://localhost:8080/"
        },
        "id": "R9jWCXhRxhbK",
        "outputId": "a5a7e6c8-e6ec-421a-e98a-9151f88af2f7"
      },
      "execution_count": null,
      "outputs": [
        {
          "output_type": "stream",
          "name": "stdout",
          "text": [
            "H\n",
            "e\n"
          ]
        }
      ]
    },
    {
      "cell_type": "markdown",
      "source": [
        "6. Explain the concept of generators in Python and how they are defined.\n",
        "    - Generators in Python are simple and powerful way to create iterators. They allow you to iterate over data without storing the entire sequence in memeory, which is useful for working with large datasets or streams.\n",
        "\n",
        "    #### Key Concepts:\n",
        "           - Generators are defined using functions and the yield keyword instead of return.\n",
        "           - Each time yield is called, the function's state is paused and saved.\n",
        "           - When next() is called, the function resume from where it left off.\n",
        "\n",
        "    #### Advantages of generators:\n",
        "          - Memory efficient: Values are generated on the fly.\n",
        "          - Cleaner Code: Simple Syntx for Complex iterations.\n",
        "          - Pause and resume: Mintains state between iterations.\n",
        "                 \n",
        "        "
      ],
      "metadata": {
        "id": "9YWjS7NExvLg"
      }
    },
    {
      "cell_type": "code",
      "source": [
        "# Defining a generator Function:\n",
        "def square_generator(n):\n",
        "    for i in range(n):\n",
        "        yield i ** 2\n",
        "\n",
        "# Using the generator:\n",
        "generator = square_generator(5)\n",
        "for square in generator:\n",
        "    print(square)\n"
      ],
      "metadata": {
        "colab": {
          "base_uri": "https://localhost:8080/"
        },
        "id": "jyOXeh_8xrlf",
        "outputId": "7f273ed6-4c67-4d0e-c5ca-58b407806bea"
      },
      "execution_count": null,
      "outputs": [
        {
          "output_type": "stream",
          "name": "stdout",
          "text": [
            "0\n",
            "1\n",
            "4\n",
            "9\n",
            "16\n"
          ]
        }
      ]
    },
    {
      "cell_type": "markdown",
      "source": [
        "7. What are the advantages of using generators over regular functions ?\n",
        "   - Generator offer several adavantages over regular functions, especially when dealing with large data or streams:\n",
        "        \n",
        "   #### Memory Efficiency:\n",
        "        - Generators Yield one item at a time, so they don't store the entire sequence in memory.\n",
        "        - Regular functions with lists return al items at once, using more memory.\n",
        "   #### Lazy Evaluation:\n",
        "        - Generators produce values on demand, which is useful for large or infinite sequences.\n",
        "   #### Improved Performance:\n",
        "        - Because valus are generated only when needed, generators can start faster and run faster in certain Scenarios.\n",
        "   #### Pipeline support:\n",
        "       - Generators can be chained together to build processing pipelines, improving readability and modularity.\n",
        "   #### Infinite Sequences:\n",
        "        - Generators make it easy to model infinite series without running out of memory.\n",
        "   #### Clean and Concise Syntax:\n",
        "        - Using yield can simplify complex iteration logic compared to managing state manually in classes or regular functions.                              \n"
      ],
      "metadata": {
        "id": "FYcUzlry1D98"
      }
    },
    {
      "cell_type": "code",
      "source": [
        "# Example of Memory efficiency:\n",
        "def square_generator(n):\n",
        "    for i in range(n):\n",
        "        yield i ** 2\n",
        "\n",
        "generator = square_generator(5)\n",
        "for square in generator:\n",
        "    print(square)"
      ],
      "metadata": {
        "colab": {
          "base_uri": "https://localhost:8080/"
        },
        "id": "ZLhqzBgR04r-",
        "outputId": "3056b0d7-95fd-4918-c257-9ec59ceaff04"
      },
      "execution_count": null,
      "outputs": [
        {
          "output_type": "stream",
          "name": "stdout",
          "text": [
            "0\n",
            "1\n",
            "4\n",
            "9\n",
            "16\n"
          ]
        }
      ]
    },
    {
      "cell_type": "code",
      "source": [
        "# example of Infinite Sequences:\n",
        "def even_numbers():\n",
        "    num = 0\n",
        "    while True:\n",
        "        yield num\n",
        "        num += 2\n",
        "\n",
        "generator = even_numbers()\n",
        "print(next(generator))\n",
        "print(next(generator))\n",
        "print(next(generator))"
      ],
      "metadata": {
        "colab": {
          "base_uri": "https://localhost:8080/"
        },
        "id": "31Jv2T_u6FGa",
        "outputId": "920199e0-f325-4650-de18-9d738786260e"
      },
      "execution_count": null,
      "outputs": [
        {
          "output_type": "stream",
          "name": "stdout",
          "text": [
            "0\n",
            "2\n",
            "4\n"
          ]
        }
      ]
    },
    {
      "cell_type": "markdown",
      "source": [
        "8. What is a lambda function in python and when is it typically used ?\n",
        "   - Lambda funtion in Python is an anonymous, inline function defined using the lambda keyword . It's used to create samll, throwaway functions without formally defining them with def.\n",
        "   - **Syntax**:\n",
        "            - lambda arguments: Expression\n",
        "   - **Limitation**:\n",
        "            - It can only contain a single Expression\n",
        "            - Not suitable for complex logic or multiple statements.        \n",
        "  \n"
      ],
      "metadata": {
        "id": "QW4pW6lf66kD"
      }
    },
    {
      "cell_type": "code",
      "source": [
        "# Example of Lambda :\n",
        "square= lambda x: x * x\n",
        "print(square(5))"
      ],
      "metadata": {
        "colab": {
          "base_uri": "https://localhost:8080/"
        },
        "id": "05jSkkq863ve",
        "outputId": "bdc6c38a-f8f8-41cc-c94a-cdb555d2fe78"
      },
      "execution_count": null,
      "outputs": [
        {
          "output_type": "stream",
          "name": "stdout",
          "text": [
            "25\n"
          ]
        }
      ]
    },
    {
      "cell_type": "code",
      "source": [
        "# **Typical Use Cases**:\n",
        "## 1. Short Functions used once or temporarily , such as:\n",
        "      ## with functions like map(), filter(), and Sorted()\n",
        "      ## Example:\n",
        "numbers = [1, 2, 3, 4, 5]\n",
        "squared = list(map(lambda x: x ** 2, numbers))\n",
        "print(squared)"
      ],
      "metadata": {
        "colab": {
          "base_uri": "https://localhost:8080/"
        },
        "id": "h8UDpvkt_BuL",
        "outputId": "a2aaa334-7349-4a0a-a33c-aaea12e4f540"
      },
      "execution_count": null,
      "outputs": [
        {
          "output_type": "stream",
          "name": "stdout",
          "text": [
            "[1, 4, 9, 16, 25]\n"
          ]
        }
      ]
    },
    {
      "cell_type": "code",
      "source": [
        "## 2. Custom Sort Keys:\n",
        "names = [\"Manisha\", \"Namita\", \"Sandhya\"]\n",
        "names.sort(key=lambda name: len(name))\n",
        "print(names)"
      ],
      "metadata": {
        "colab": {
          "base_uri": "https://localhost:8080/"
        },
        "id": "cMcfGNCv_pkL",
        "outputId": "c681440c-7d1a-48ee-f154-f0706734483b"
      },
      "execution_count": null,
      "outputs": [
        {
          "output_type": "stream",
          "name": "stdout",
          "text": [
            "['Namita', 'Manisha', 'Sandhya']\n"
          ]
        }
      ]
    },
    {
      "cell_type": "code",
      "source": [
        "## 3. Closures or small callbacks:\n",
        "def make_incrementor(n):\n",
        "  return lambda x: x + n\n",
        "\n",
        "increment_by_10 = make_incrementor(10)\n",
        "print(increment_by_10(5))"
      ],
      "metadata": {
        "colab": {
          "base_uri": "https://localhost:8080/"
        },
        "id": "L99rNG3-AMJ6",
        "outputId": "8fa7ab1c-d88f-46af-f138-c4dc26690356"
      },
      "execution_count": null,
      "outputs": [
        {
          "output_type": "stream",
          "name": "stdout",
          "text": [
            "15\n"
          ]
        }
      ]
    },
    {
      "cell_type": "markdown",
      "source": [
        "9. Explain the purpose and usage of the \"map()\" function in pyhton.\n",
        "   - The map() function in python is used to apply a given function to each item in an iterable (like a list or tuple) and return a map object (which is an iterator) of the results.\n",
        "   - **Syntax**:\n",
        "          - map(function, iterable)\n",
        "   - **Purpose**:\n",
        "          - to transform all itms in an iterable by applying the same operation, without using a loop explicitly.\n",
        "   - **Key Point**:\n",
        "          - Returns a map object; convert it to list() or tuple() to see the results.\n",
        "          - It's often used with lambda for concise code.\n",
        "          - Ideal for element-wise transformations.              "
      ],
      "metadata": {
        "id": "cZXL52wvAtYw"
      }
    },
    {
      "cell_type": "code",
      "source": [
        "# Example 1: Using a built-in function:\n",
        "nums = [1, 2, 3, 4]\n",
        "squares = map(lambda x: x**2, nums)\n",
        "print(list(squares))"
      ],
      "metadata": {
        "colab": {
          "base_uri": "https://localhost:8080/"
        },
        "id": "kqTUjwOmAp-T",
        "outputId": "6548110d-f5d2-4e11-f108-d69b9da07bd9"
      },
      "execution_count": null,
      "outputs": [
        {
          "output_type": "stream",
          "name": "stdout",
          "text": [
            "[1, 4, 9, 16]\n"
          ]
        }
      ]
    },
    {
      "cell_type": "code",
      "source": [
        "# Example 2: With a regular function:\n",
        "def capitalize(word):\n",
        "    return word.capitalize()\n",
        "\n",
        "words = [\"manisha\", \"namita\", \"sandhya\"]\n",
        "capitalized_words = map(capitalize, words)\n",
        "print(list(capitalized_words))"
      ],
      "metadata": {
        "colab": {
          "base_uri": "https://localhost:8080/"
        },
        "id": "AHMB50GODmS4",
        "outputId": "0c5663e7-14a3-4522-8624-6a1cf24ba9a3"
      },
      "execution_count": null,
      "outputs": [
        {
          "output_type": "stream",
          "name": "stdout",
          "text": [
            "['Manisha', 'Namita', 'Sandhya']\n"
          ]
        }
      ]
    },
    {
      "cell_type": "code",
      "source": [
        "## Mutiple Iterables:\n",
        "# you can use multiple iterables if the function accepts multiple arguments.\n",
        "a = [1, 2, 3]\n",
        "b = [4, 5, 6]\n",
        "result = map(lambda x, y: x + y, a, b)\n",
        "print(list(result))"
      ],
      "metadata": {
        "colab": {
          "base_uri": "https://localhost:8080/"
        },
        "id": "bbeQPznoEBAH",
        "outputId": "9e5e23ef-8a02-4d97-ce2f-49c75e395bd8"
      },
      "execution_count": null,
      "outputs": [
        {
          "output_type": "stream",
          "name": "stdout",
          "text": [
            "[5, 7, 9]\n"
          ]
        }
      ]
    },
    {
      "cell_type": "markdown",
      "source": [
        "10. What is the difference between 'map()', 'reduce()', and !filter()' functions in Python ?\n",
        "   - In Python, map(), filter(), and reduce() are functional programming tools used to process iterables. Here's how they Differ:\n",
        "      - **1. Map()**:\n",
        "               - Purpose:- Transforms each item in an iterable.\n",
        "               - Returns: A new iterable with the transformed values.\n",
        "               - Syntax: map(function, iterable)\n",
        "      - **2. filter()**:\n",
        "               - Purpose: Filters items in an iterable based on condition.\n",
        "               - Returns: only the items where the function returns True.\n",
        "               - Syntax: filter(function, iterable)\n",
        "      - **3. reduce() (from functools)**:\n",
        "               - Purpose: applies a function cumulatively to reduce the iterable to a single value.\n",
        "               - Returns: A single result (e.g., sum, product).\n",
        "               - Syntax: Reduce (function, iterable)\n",
        "               - Needs import: from functools import reduce.\n",
        "  #### Summary Table:\n",
        "         - 1. **map()**:\n",
        "                  - Action: Transform\n",
        "                  - Returns: Transformed items\n",
        "                  - Example Use Case: Square all numbers\n",
        "         - 2. **filter()**:\n",
        "                  - Action: Select/Remove\n",
        "                  - Returns: Filtered items\n",
        "                  - Example Use Case: Keep only even numbers\n",
        "         - 3. **reduce()**:\n",
        "                  - Action: Accumulate\n",
        "                  - Returns: Single Value\n",
        "                  - Example Use Case: Multiply all numbers                   "
      ],
      "metadata": {
        "id": "ER7oSfMJEg9F"
      }
    },
    {
      "cell_type": "code",
      "source": [
        "# Example of map();\n",
        "nums = [1, 2, 3, 4]\n",
        "squares = map(lambda x: x**2, nums)\n",
        "print(list(squares))\n"
      ],
      "metadata": {
        "colab": {
          "base_uri": "https://localhost:8080/"
        },
        "id": "8FS9DD_GEUss",
        "outputId": "5c743473-5bd2-4851-83d9-38b553a1ac11"
      },
      "execution_count": null,
      "outputs": [
        {
          "output_type": "stream",
          "name": "stdout",
          "text": [
            "[1, 4, 9, 16]\n"
          ]
        }
      ]
    },
    {
      "cell_type": "code",
      "source": [
        "# Example of Filter():\n",
        "nums = [1, 2, 3, 4, 5, 6]\n",
        "even_nums = filter(lambda x: x % 2 == 0, nums)\n",
        "print(list(even_nums))"
      ],
      "metadata": {
        "colab": {
          "base_uri": "https://localhost:8080/"
        },
        "id": "WHX38sCXKCze",
        "outputId": "9943e1b8-f680-4188-99e8-c8e669673576"
      },
      "execution_count": null,
      "outputs": [
        {
          "output_type": "stream",
          "name": "stdout",
          "text": [
            "[2, 4, 6]\n"
          ]
        }
      ]
    },
    {
      "cell_type": "code",
      "source": [
        "# Example of Reduce():\n",
        "from functools import reduce\n",
        "nums = [1, 2, 3, 4]\n",
        "product = reduce(lambda x, y: x * y, nums)\n",
        "print(product)"
      ],
      "metadata": {
        "colab": {
          "base_uri": "https://localhost:8080/"
        },
        "id": "Q105I0AJKNBy",
        "outputId": "da5240f2-7b4e-4cd9-95c1-75dc80738bfa"
      },
      "execution_count": null,
      "outputs": [
        {
          "output_type": "stream",
          "name": "stdout",
          "text": [
            "24\n"
          ]
        }
      ]
    },
    {
      "cell_type": "markdown",
      "source": [
        "11. Using pen & paper write the internal mechanism for sum operation using reduce functions on this given list: [47, 11, 42, 13].\n",
        " - (https://acrobat.adobe.com/id/urn:aaid:sc:AP:b8051c65-aff8-47f6-8a1f-1b32118284b4)"
      ],
      "metadata": {
        "id": "nNq8y6tAKdD0"
      }
    },
    {
      "cell_type": "markdown",
      "source": [
        "## **Practical Question**:"
      ],
      "metadata": {
        "id": "ek4O98A5R5YL"
      }
    },
    {
      "cell_type": "code",
      "source": [
        "# 1. write a python function that takes a list of numbers as input and returns the sum of all even numbers in the list.\n",
        "def sum_even_numbers(numbers):\n",
        "    return sum(filter(lambda x: x % 2 == 0, numbers))\n",
        "numbers = [1, 2, 3, 4, 5, 6]\n",
        "result = sum_even_numbers(numbers)\n",
        "print(result)\n",
        "\n"
      ],
      "metadata": {
        "colab": {
          "base_uri": "https://localhost:8080/"
        },
        "id": "VXM32P6AX8rk",
        "outputId": "fc8d0b99-aa23-4cdf-a9c7-b432f5494c61"
      },
      "execution_count": 55,
      "outputs": [
        {
          "output_type": "stream",
          "name": "stdout",
          "text": [
            "12\n"
          ]
        }
      ]
    },
    {
      "cell_type": "code",
      "source": [
        "#2. create a python function that accept a string and returns the reverse of that string.\n",
        "def reverse_string(string):\n",
        "    return string[::-1]\n",
        "\n",
        "input_string = \"Hello, World!\"\n",
        "reversed_string = reverse_string(input_string)\n",
        "print(reversed_string)"
      ],
      "metadata": {
        "colab": {
          "base_uri": "https://localhost:8080/"
        },
        "id": "GPIEPT3ZZdQV",
        "outputId": "eda9ddb0-8afd-4d1d-ba7e-0d2771bb8141"
      },
      "execution_count": 56,
      "outputs": [
        {
          "output_type": "stream",
          "name": "stdout",
          "text": [
            "!dlroW ,olleH\n"
          ]
        }
      ]
    },
    {
      "cell_type": "code",
      "source": [
        "#3. implement a Python function that takes a list of integers and returns a new list containing the squares of each number.\n",
        "def square_numbers(numbers):\n",
        "    return list(map(lambda x: x ** 2, numbers))\n",
        "\n",
        "numbers = [1, 2, 3, 4, 5]\n",
        "squared_numbers = square_numbers(numbers)\n",
        "print(squared_numbers)\n",
        "#"
      ],
      "metadata": {
        "colab": {
          "base_uri": "https://localhost:8080/"
        },
        "id": "FCPtPp_EaMPK",
        "outputId": "c22f393c-d28a-4f9a-e734-f6677c28ea58"
      },
      "execution_count": 57,
      "outputs": [
        {
          "output_type": "stream",
          "name": "stdout",
          "text": [
            "[1, 4, 9, 16, 25]\n"
          ]
        }
      ]
    },
    {
      "cell_type": "code",
      "source": [
        "#4. write a python function that checks if a given number is prime or not from 1 to 200.\n",
        "def is_prime(n):\n",
        "  if n < 2:\n",
        "    return False\n",
        "  for i in range(2, int(n ** 0.5) + 1):\n",
        "    if n % i == 0:\n",
        "      return False\n",
        "  return True\n",
        "number =137\n",
        "if is_prime(number):\n",
        "    print(f\"{number} is a prime number.\")\n",
        "else:\n",
        "    print(f\"{number} is not a prime number.\")\n",
        "\n",
        "\n"
      ],
      "metadata": {
        "colab": {
          "base_uri": "https://localhost:8080/"
        },
        "id": "k8HhJsvvaijN",
        "outputId": "4b9056e6-de41-4b52-a67a-dc6262aa5486"
      },
      "execution_count": 63,
      "outputs": [
        {
          "output_type": "stream",
          "name": "stdout",
          "text": [
            "137 is a prime number.\n"
          ]
        }
      ]
    },
    {
      "cell_type": "code",
      "source": [
        "#5. Create an iterator class in Python that generates the fibonacci sequence up to a specified number of terms.\n",
        "class FibonacciIterator:\n",
        "  def __init__(self, n_terms):\n",
        "    self.n_terms = n_terms\n",
        "    self.count = 0\n",
        "    self.a = 0\n",
        "    self.b = 1\n",
        "  def __iter__(self):\n",
        "    return self\n",
        "  def __next__(self):\n",
        "    if self.count >= self.n_terms:\n",
        "      raise StopIteration\n",
        "    if self.count == 0:\n",
        "      self.count += 1\n",
        "      return self.a\n",
        "    elif self.count == 1:\n",
        "      self.count += 1\n",
        "      return self.b\n",
        "    else:\n",
        "      self.a, self.b = self.b, self.a + self.b\n",
        "      self.count += 1\n",
        "      return self.b\n",
        "\n",
        "fib = FibonacciIterator(10)\n",
        "for num in fib:\n",
        "  print(num)\n"
      ],
      "metadata": {
        "colab": {
          "base_uri": "https://localhost:8080/"
        },
        "id": "sBL3HPz1bJBI",
        "outputId": "9d0dabd9-e844-49d1-9fa3-7e15cd8b6ed8"
      },
      "execution_count": 86,
      "outputs": [
        {
          "output_type": "stream",
          "name": "stdout",
          "text": [
            "0\n",
            "1\n",
            "1\n",
            "2\n",
            "3\n",
            "5\n",
            "8\n",
            "13\n",
            "21\n",
            "34\n"
          ]
        }
      ]
    },
    {
      "cell_type": "code",
      "source": [
        "#6. Write a generator function in Python that yields the powers of 2 up to given exponent.\n",
        "def power_of_two(n):\n",
        "  power = 0\n",
        "  while power <= n:\n",
        "    yield 2 ** power\n",
        "    power += 1\n",
        "for power in power_of_two(5):\n",
        "  print(power)"
      ],
      "metadata": {
        "colab": {
          "base_uri": "https://localhost:8080/"
        },
        "id": "9UNiukYsfOfv",
        "outputId": "c3aa06c4-1b15-4e13-e155-87ca320277fd"
      },
      "execution_count": 87,
      "outputs": [
        {
          "output_type": "stream",
          "name": "stdout",
          "text": [
            "1\n",
            "2\n",
            "4\n",
            "8\n",
            "16\n",
            "32\n"
          ]
        }
      ]
    },
    {
      "cell_type": "code",
      "source": [
        "#7. Implement a generator functions that reads a file line by line and yields each line as a string.\n",
        "def read_file_line_by_line(file_path):\n",
        "    try:\n",
        "        with open(file_path, 'r') as file:\n",
        "            for line in file:\n",
        "                yield line.rstrip('\\n')\n",
        "    except FileNotFoundError:\n",
        "        print(f\"File '{file_path}' not found.\")\n",
        "    except IOError as e:\n",
        "        print(f'I/0 error occurred: {e}')\n",
        "for line in read_file_line_by_line('example.txt'):\n",
        "       print(line)"
      ],
      "metadata": {
        "colab": {
          "base_uri": "https://localhost:8080/"
        },
        "id": "NdCu4jdZiHDG",
        "outputId": "40d0a781-2a55-4cd1-a10f-0f7c7bdd9dc4"
      },
      "execution_count": 98,
      "outputs": [
        {
          "output_type": "stream",
          "name": "stdout",
          "text": [
            "File 'example.txt' not found.\n"
          ]
        }
      ]
    },
    {
      "cell_type": "code",
      "source": [
        "#8. use a lambda function in Python to sort a list of tuples based on the second element of each tuple.\n",
        "my_list = [(1, 5), (3, 2), (2, 8), (4, 1)]\n",
        "sorted_list = sorted(my_list, key=lambda x: x[1])\n",
        "print(sorted_list)"
      ],
      "metadata": {
        "colab": {
          "base_uri": "https://localhost:8080/"
        },
        "id": "HyPrD62yjClq",
        "outputId": "f708df70-17e9-4279-a379-630ff71bea2d"
      },
      "execution_count": 99,
      "outputs": [
        {
          "output_type": "stream",
          "name": "stdout",
          "text": [
            "[(4, 1), (3, 2), (1, 5), (2, 8)]\n"
          ]
        }
      ]
    },
    {
      "cell_type": "code",
      "source": [
        "#9. write a Python program that use 'map()' to convert a list of temperatures from celsius to fahrenheit.\n",
        "def celsius_to_fahrenheit(celsius):\n",
        "    return (celsius * 9/5) + 32\n",
        "temperatures_celsius = [0, 10, 20, 30, 40]\n",
        "temperatures_fahrenheit = list(map(celsius_to_fahrenheit, temperatures_celsius))\n",
        "print(\"celsius:\", temperatures_celsius)\n",
        "print(\"fahrenheit:\", temperatures_fahrenheit)\n"
      ],
      "metadata": {
        "colab": {
          "base_uri": "https://localhost:8080/"
        },
        "id": "v1T5Z0NGmcCd",
        "outputId": "c70726d0-6f6d-4f91-d0eb-a3844f6b35fe"
      },
      "execution_count": 103,
      "outputs": [
        {
          "output_type": "stream",
          "name": "stdout",
          "text": [
            "celsius: [0, 10, 20, 30, 40]\n",
            "fahrenheit: [32.0, 50.0, 68.0, 86.0, 104.0]\n"
          ]
        }
      ]
    },
    {
      "cell_type": "code",
      "source": [
        "#10. create a Python program that use 'filter()' to removes all the vowels from a given sring.\n",
        "def remove_vowels(input_str):\n",
        "    vowels = 'aeiouAEIOU'\n",
        "    return ''.join(filter(lambda char: char not in vowels, input_str))\n",
        "text = \"Hello, World!\"\n",
        "result = remove_vowels(text)\n",
        "print(\"Original:\", text)\n",
        "print(\"Without Vowels:\", result)"
      ],
      "metadata": {
        "colab": {
          "base_uri": "https://localhost:8080/"
        },
        "id": "0umXFl1am2SP",
        "outputId": "caccee2e-93e6-45c5-e331-e95ec3ff709e"
      },
      "execution_count": 102,
      "outputs": [
        {
          "output_type": "stream",
          "name": "stdout",
          "text": [
            "Original: Hello, World!\n",
            "Without Vowels: Hll, Wrld!\n"
          ]
        }
      ]
    },
    {
      "cell_type": "code",
      "source": [
        "#11. Imagine an accounting rountine used in a book shop. It works on list with sublists, which look like this :\n",
        "# order Number      book title and author              quantites    price per items\n",
        "# 34587             learning python, mark lutz.            4             40.95\n",
        "# 98762             programming Python,Mark lutz.          5             56.80\n",
        "# 77226             head fist Python, paul Barry.          3             32.95\n",
        "# 88112             Einfuhrung in python3, Brend klein     3             24.99\n",
        "# write a python program, which returns a list with 2-tuples. Each tuple consist of the order number and the product of the price per item and the quantity. The product should be increased by 10,-£ if the value of the order is smaller than 100,00£.\n",
        "# Write a python program using lambda and map.\n",
        "orders = [(34987, \"Learning Python, Mark Lutz\", 1, 40.95), (97562, \"Programming Python\", 5, 56.80), (77226, \"Head First Python\", 3, 32.95), (88112, \"Einführung in Python3\", 3, 24.99)]\n",
        "result = list(map(lambda order: (order[0], round(order[2] * order[3] * 1.10,2) if order[2] * order[3] < 100 else round(order[2] * order[3], 2)),orders))\n",
        "for r in result:\n",
        "  print(r)"
      ],
      "metadata": {
        "colab": {
          "base_uri": "https://localhost:8080/"
        },
        "id": "lo03hWDOnglh",
        "outputId": "65b0d4dc-3713-4fe2-907d-0ca191fca754"
      },
      "execution_count": 104,
      "outputs": [
        {
          "output_type": "stream",
          "name": "stdout",
          "text": [
            "(34987, 45.05)\n",
            "(97562, 284.0)\n",
            "(77226, 108.74)\n",
            "(88112, 82.47)\n"
          ]
        }
      ]
    }
  ]
}